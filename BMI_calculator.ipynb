{
  "nbformat": 4,
  "nbformat_minor": 0,
  "metadata": {
    "colab": {
      "provenance": [],
      "authorship_tag": "ABX9TyPR+LV5KcI1XVvHm8rTFKCk",
      "include_colab_link": true
    },
    "kernelspec": {
      "name": "python3",
      "display_name": "Python 3"
    },
    "language_info": {
      "name": "python"
    }
  },
  "cells": [
    {
      "cell_type": "markdown",
      "metadata": {
        "id": "view-in-github",
        "colab_type": "text"
      },
      "source": [
        "<a href=\"https://colab.research.google.com/github/Phuti-ane/Python-project/blob/main/BMI_calculator.ipynb\" target=\"_parent\"><img src=\"https://colab.research.google.com/assets/colab-badge.svg\" alt=\"Open In Colab\"/></a>"
      ]
    },
    {
      "cell_type": "code",
      "execution_count": null,
      "metadata": {
        "colab": {
          "base_uri": "https://localhost:8080/"
        },
        "id": "t1weTHJtM1na",
        "outputId": "e8125cf5-b787-449d-eec0-e7e767bcf589"
      },
      "outputs": [
        {
          "output_type": "stream",
          "name": "stdout",
          "text": [
            "Enter your name:phuti\n",
            "Enter your Weight in Kg:0\n",
            "Enter your height in CM:1\n",
            "0.0\n",
            "Enter valid inputs\n"
          ]
        }
      ],
      "source": [
        "#bmi = (weight)/(height in cm**2)\n",
        "#output bmi, name you are overweight\n",
        "#range <15, <20 , <25, <30\n",
        "\n",
        "name = input(\"Enter your name:\")\n",
        "weight = int(input(\"Enter your Weight in Kg:\"))\n",
        "height = int(input(\"Enter your height in CM:\"))\n",
        "\n",
        "bmi = weight / (height/100)**2\n",
        "\n",
        "print(bmi)\n",
        "\n",
        "if bmi > 0:\n",
        "  if (bmi < 15):\n",
        "    print( name +\",You are very severely underweight\")\n",
        "  elif (bmi < 20):\n",
        "    print(name + \",you are underweight\")\n",
        "  elif (bmi < 25):\n",
        "    print(name + \",you are normal\")\n",
        "  elif (bmi < 30):\n",
        "    print(name + \"you are overwight\")\n",
        "  else:\n",
        "    print(name + \",go to the gym\")\n",
        "\n",
        "else: print(\"Enter valid inputs\")"
      ]
    }
  ]
}