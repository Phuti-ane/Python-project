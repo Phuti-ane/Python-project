{
  "nbformat": 4,
  "nbformat_minor": 0,
  "metadata": {
    "colab": {
      "provenance": [],
      "toc_visible": true,
      "authorship_tag": "ABX9TyNOO6j+ioX7/jdmg2MS1iVv",
      "include_colab_link": true
    },
    "kernelspec": {
      "name": "python3",
      "display_name": "Python 3"
    },
    "language_info": {
      "name": "python"
    }
  },
  "cells": [
    {
      "cell_type": "markdown",
      "metadata": {
        "id": "view-in-github",
        "colab_type": "text"
      },
      "source": [
        "<a href=\"https://colab.research.google.com/github/Phuti-ane/Python-project/blob/main/move_files.ipynb\" target=\"_parent\"><img src=\"https://colab.research.google.com/assets/colab-badge.svg\" alt=\"Open In Colab\"/></a>"
      ]
    },
    {
      "cell_type": "code",
      "execution_count": 17,
      "metadata": {
        "colab": {
          "base_uri": "https://localhost:8080/"
        },
        "id": "6vaev2cJs7jZ",
        "outputId": "c41deeb2-5488-4641-ad9d-6a8ad7ac55c9"
      },
      "outputs": [
        {
          "output_type": "stream",
          "name": "stdout",
          "text": [
            "folder exists\n",
            "folder exists\n",
            "folder exists\n",
            "file exists\n",
            "file exists\n",
            "file exists\n"
          ]
        }
      ],
      "source": [
        "import os, shutil\n",
        "\n",
        "#bring in the file path we want to use\n",
        "path = r\"/var/tutorial/\"\n",
        "\n",
        "#this shows us files in the folder\n",
        "file_name = os.listdir(path)\n",
        "\n",
        "#folders to be added\n",
        "folder_name = ['pictures', 'videos', 'documents']\n",
        "\n",
        "#lets check if files exists\n",
        "#the loop will go to each item in the array and item will be stored in loop\n",
        "for loop in range(0,3):\n",
        "  if os.path.exists(path + folder_name[loop] ):\n",
        "    print('folder exists')\n",
        "  else: os.makedirs(path + folder_name[loop])\n",
        "\n",
        "#lets create files in those folders matching the property type.\n",
        "for files in range(0,3):\n",
        "  if os.path.exists(path + folder_name[files] + '/' + file_name[files]):\n",
        "    print('file exists')\n",
        "else:\n",
        "    with open(path + folder_name[files] + '/' + file_name[files], 'w') as f:\n",
        "     pass\n",
        "#if wanted to write something then f.write(\"something\")\n",
        "#pass is to close the opened files\n",
        "#to move file shutil.move(original location, to new)"
      ]
    },
    {
      "cell_type": "code",
      "source": [],
      "metadata": {
        "id": "jEYh7AQzup-s"
      },
      "execution_count": null,
      "outputs": []
    }
  ]
}